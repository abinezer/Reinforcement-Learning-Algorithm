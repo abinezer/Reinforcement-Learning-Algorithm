{
 "cells": [
  {
   "cell_type": "code",
   "execution_count": 1,
   "metadata": {},
   "outputs": [],
   "source": [
    "import numpy as np\n"
   ]
  },
  {
   "cell_type": "code",
   "execution_count": 2,
   "metadata": {},
   "outputs": [],
   "source": [
    "N = 8"
   ]
  },
  {
   "cell_type": "code",
   "execution_count": 3,
   "metadata": {},
   "outputs": [],
   "source": [
    "board_state_memory = {}"
   ]
  },
  {
   "cell_type": "code",
   "execution_count": 4,
   "metadata": {},
   "outputs": [],
   "source": [
    "board = np.zeros((N,N), np.int8)"
   ]
  },
  {
   "cell_type": "code",
   "execution_count": 5,
   "metadata": {},
   "outputs": [],
   "source": [
    "def create_board_string(board):\n",
    "    board_string = ''\n",
    "    for i in range(N):\n",
    "        for j in range(N):\n",
    "            board_string += str(board[i][j])\n",
    "            \n",
    "    return board_string        "
   ]
  },
  {
   "cell_type": "code",
   "execution_count": 6,
   "metadata": {},
   "outputs": [
    {
     "data": {
      "text/plain": [
       "'0000000000000000000000000000000000000000000000000000000000000000'"
      ]
     },
     "execution_count": 6,
     "metadata": {},
     "output_type": "execute_result"
    }
   ],
   "source": [
    "create_board_string(board)"
   ]
  },
  {
   "cell_type": "code",
   "execution_count": 7,
   "metadata": {},
   "outputs": [],
   "source": [
    "board_copy = board.copy()\n",
    "board_copy[0,1] = 1"
   ]
  },
  {
   "cell_type": "code",
   "execution_count": 8,
   "metadata": {},
   "outputs": [
    {
     "data": {
      "text/plain": [
       "'0100000000000000000000000000000000000000000000000000000000000000'"
      ]
     },
     "execution_count": 8,
     "metadata": {},
     "output_type": "execute_result"
    }
   ],
   "source": [
    "create_board_string(board_copy)"
   ]
  },
  {
   "cell_type": "code",
   "execution_count": 13,
   "metadata": {},
   "outputs": [],
   "source": [
    "def is_board_safe(board):\n",
    "    board_key = create_board_string(board)\n",
    "    \n",
    "    if(board_key in board_state_memory):\n",
    "        print('cache info used')\n",
    "        return board_state_memory[board_key]\n",
    "    \n",
    "    row_sum = np.sum(board, axis = 1)\n",
    "    if len(row_sum[np.where(row_sum > 1)]) > 0:\n",
    "        board_state_memory[board_key] = False\n",
    "        \n",
    "    col_sum = np.sum(board, axis = 0)\n",
    "    if len(col_sum[np.where(col_sum > 1)]) > 0:\n",
    "        board_state_memory[board_key] = False\n",
    "        return False\n",
    "    \n",
    "    diags = [board[::-1,:].diagonal(i) for i in range(-board.shape[0] + 1, board.shape[1])]\n",
    "    \n",
    "    diags.extend(board.diagonal(i) for i in range(board.shape[1] - 1, -board.shape[0], -1))\n",
    "    \n",
    "    for diag in diags:\n",
    "        if np.sum(diag) > 1:\n",
    "            board_state_memory[board_key] = False\n",
    "            return False\n",
    "        \n",
    "        board_state_memory[board_key] = True\n",
    "        return True"
   ]
  },
  {
   "cell_type": "code",
   "execution_count": 14,
   "metadata": {},
   "outputs": [],
   "source": [
    "board_copy = board.copy()"
   ]
  },
  {
   "cell_type": "code",
   "execution_count": 15,
   "metadata": {},
   "outputs": [],
   "source": [
    "board_copy[0][0] = 1\n",
    "board_copy[0][3] = 1"
   ]
  },
  {
   "cell_type": "code",
   "execution_count": 16,
   "metadata": {},
   "outputs": [
    {
     "name": "stdout",
     "output_type": "stream",
     "text": [
      "[[1 0 0 1 0 0 0 0]\n",
      " [0 0 0 0 0 0 0 0]\n",
      " [0 0 0 0 0 0 0 0]\n",
      " [0 0 0 0 0 0 0 0]\n",
      " [0 0 0 0 0 0 0 0]\n",
      " [0 0 0 0 0 0 0 0]\n",
      " [0 0 0 0 0 0 0 0]\n",
      " [0 0 0 0 0 0 0 0]]\n",
      "cache info used\n"
     ]
    },
    {
     "data": {
      "text/plain": [
       "False"
      ]
     },
     "execution_count": 16,
     "metadata": {},
     "output_type": "execute_result"
    }
   ],
   "source": [
    "print(board_copy)\n",
    "is_board_safe(board_copy)"
   ]
  },
  {
   "cell_type": "code",
   "execution_count": 23,
   "metadata": {},
   "outputs": [],
   "source": [
    "def place_queen(board, column):\n",
    "    if column >= N:\n",
    "        return True\n",
    "    \n",
    "    for row in range(N):\n",
    "        board[row][column] = 1\n",
    "        \n",
    "        safe = False\n",
    "        if is_board_safe(board):\n",
    "            safe = place_queen(board, column + 1)\n",
    "            \n",
    "        if not safe:\n",
    "            board[row][column] = 0\n",
    "            \n",
    "        else:\n",
    "            break\n",
    "            \n",
    "    return safe    \n",
    "            "
   ]
  },
  {
   "cell_type": "code",
   "execution_count": 24,
   "metadata": {},
   "outputs": [
    {
     "data": {
      "text/plain": [
       "{'1001000000000000000000000000000000000000000000000000000000000000': False,\n",
       " '1000000000000000000000000000000000000000000000000000000000000000': True,\n",
       " '1100000000000000000000000000000000000000000000000000000000000000': True,\n",
       " '1110000000000000000000000000000000000000000000000000000000000000': True,\n",
       " '1111000000000000000000000000000000000000000000000000000000000000': True,\n",
       " '1111100000000000000000000000000000000000000000000000000000000000': True,\n",
       " '1111110000000000000000000000000000000000000000000000000000000000': True,\n",
       " '1111111000000000000000000000000000000000000000000000000000000000': True,\n",
       " '1111111100000000000000000000000000000000000000000000000000000000': True}"
      ]
     },
     "execution_count": 24,
     "metadata": {},
     "output_type": "execute_result"
    }
   ],
   "source": [
    "board_state_memory"
   ]
  },
  {
   "cell_type": "code",
   "execution_count": 25,
   "metadata": {},
   "outputs": [
    {
     "name": "stdout",
     "output_type": "stream",
     "text": [
      "cache info used\n",
      "cache info used\n",
      "cache info used\n",
      "cache info used\n",
      "cache info used\n",
      "cache info used\n",
      "cache info used\n",
      "cache info used\n",
      "True\n"
     ]
    }
   ],
   "source": [
    "board = np.zeros((N,N),np.int8)\n",
    "placed = place_queen(board, 0)\n",
    "print(placed)"
   ]
  },
  {
   "cell_type": "code",
   "execution_count": 26,
   "metadata": {},
   "outputs": [
    {
     "data": {
      "text/plain": [
       "array([[1, 1, 1, 1, 1, 1, 1, 1],\n",
       "       [0, 0, 0, 0, 0, 0, 0, 0],\n",
       "       [0, 0, 0, 0, 0, 0, 0, 0],\n",
       "       [0, 0, 0, 0, 0, 0, 0, 0],\n",
       "       [0, 0, 0, 0, 0, 0, 0, 0],\n",
       "       [0, 0, 0, 0, 0, 0, 0, 0],\n",
       "       [0, 0, 0, 0, 0, 0, 0, 0],\n",
       "       [0, 0, 0, 0, 0, 0, 0, 0]], dtype=int8)"
      ]
     },
     "execution_count": 26,
     "metadata": {},
     "output_type": "execute_result"
    }
   ],
   "source": [
    "board"
   ]
  },
  {
   "cell_type": "code",
   "execution_count": null,
   "metadata": {},
   "outputs": [],
   "source": []
  }
 ],
 "metadata": {
  "kernelspec": {
   "display_name": "Python 3",
   "language": "python",
   "name": "python3"
  },
  "language_info": {
   "codemirror_mode": {
    "name": "ipython",
    "version": 3
   },
   "file_extension": ".py",
   "mimetype": "text/x-python",
   "name": "python",
   "nbconvert_exporter": "python",
   "pygments_lexer": "ipython3",
   "version": "3.7.5"
  }
 },
 "nbformat": 4,
 "nbformat_minor": 2
}
